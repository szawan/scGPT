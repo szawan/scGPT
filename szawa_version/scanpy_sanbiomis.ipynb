{
 "cells": [
  {
   "cell_type": "code",
   "execution_count": 2,
   "metadata": {},
   "outputs": [],
   "source": [
    "import scanpy as sc\n",
    "import pandas as pd\n",
    "import anndata as ad\n",
    "from anndata import AnnData"
   ]
  },
  {
   "cell_type": "markdown",
   "metadata": {},
   "source": [
    "### Read Data"
   ]
  },
  {
   "cell_type": "code",
   "execution_count": 3,
   "metadata": {},
   "outputs": [],
   "source": [
    "# Replace 'counts_matrix.txt' with the path to your file\n",
    "counts = pd.read_csv(\"/scratch/sah2p/projects/G2PDeep-sc-LLM/data/GSE131907/GSE131907_raw_UMI_N_lung.txt\", sep=\"\\t\", index_col=0)"
   ]
  },
  {
   "cell_type": "code",
   "execution_count": 4,
   "metadata": {},
   "outputs": [],
   "source": [
    "adata = AnnData(X=counts.T.values)\n",
    "adata.var_names = counts.index\n",
    "adata.obs_names = counts.columns"
   ]
  },
  {
   "cell_type": "code",
   "execution_count": 5,
   "metadata": {},
   "outputs": [],
   "source": [
    "# Split the cell barcodes to extract sample names and barcodes\n",
    "adata.obs['barcode'] = adata.obs_names.str.split('_').str[0]  # Sample name\n",
    "adata.obs['Tissue'] = adata.obs_names.str.split('_').str[1]\n",
    "adata.obs['sample'] = adata.obs_names.str.split('_').str[2]  # Actual barcode"
   ]
  },
  {
   "cell_type": "code",
   "execution_count": null,
   "metadata": {},
   "outputs": [],
   "source": [
    "#Seperate Anndata by Sample\n",
    "# Create a list of AnnData objects split by sample\n",
    "adata_by_sample = [adata[adata.obs['sample'] == sample].copy() for sample in adata.obs['sample'].unique()]\n",
    "adata_by_sample\n"
   ]
  },
  {
   "cell_type": "markdown",
   "metadata": {},
   "source": [
    "Additionally, it is important to note that for datasets with multiple batches, quality control should be performed for each sample individually as quality control thresholds can very substantially between batches."
   ]
  },
  {
   "cell_type": "markdown",
   "metadata": {},
   "source": [
    "One can now inspect violin plots of some of the computed QC metrics:\n",
    "\n",
    "the number of genes expressed in the count matrix\n",
    "\n",
    "the total counts per cell\n",
    "\n",
    "the percentage of counts in mitochondrial genes"
   ]
  },
  {
   "cell_type": "code",
   "execution_count": 8,
   "metadata": {},
   "outputs": [],
   "source": [
    "#Perform QC for each sample\n",
    "for index, adata_sample in enumerate(adata_by_sample):\n",
    "    # Calculate mitochondrial gene percentage\n",
    "    adata_sample.var['mt'] = adata_sample.var_names.str.startswith('MT-')\n",
    "     # ribosomal genes\n",
    "    adata_sample.var[\"ribo\"] = adata.var_names.str.startswith((\"RPS\", \"RPL\"))\n",
    "# hemoglobin genes\n",
    "    adata_sample.var[\"hb\"] = adata.var_names.str.contains(\"^HB[^(P)]\")# Adjust prefix if necessary\n",
    "    sc.pp.calculate_qc_metrics(adata_sample, qc_vars=['mt',\"ribo\", \"hb\"], inplace=True)\n",
    "    \n",
    "    # Filter cells based on QC metrics\n",
    "    adata_sample = adata_sample[(adata_sample.obs['pct_counts_mt'] <= 20) &\n",
    "                                (adata_sample.obs['n_genes_by_counts'] > 100) &\n",
    "                                (adata_sample.obs['n_genes_by_counts'] < 150000) &\n",
    "                                (adata_sample.obs['total_counts'] > 200) &\n",
    "                                (adata_sample.obs['total_counts'] < 10000), :]\n",
    "    \n",
    "    remove = ['total_counts_mt', 'log1p_total_counts_mt', 'total_counts_ribo', \n",
    "          'log1p_total_counts_ribo', 'total_counts_hb', 'log1p_total_counts_hb']\n",
    "    \n",
    "    adata_sample.obs = adata_sample.obs[[x for x in adata_sample.obs.columns if x not in remove]]\n",
    "    # Store the filtered AnnData object back in the dictionary\n",
    "    adata_by_sample[index] = adata_sample\n",
    "    "
   ]
  },
  {
   "cell_type": "code",
   "execution_count": null,
   "metadata": {},
   "outputs": [],
   "source": [
    "sc.pp.scrublet(adata, batch_key=\"sample\")\n"
   ]
  },
  {
   "cell_type": "code",
   "execution_count": null,
   "metadata": {},
   "outputs": [],
   "source": [
    "for sample, adata_sample in enumerate(adata_by_sample):\n",
    "    sc.pl.violin(\n",
    "    adata_sample,\n",
    "    [\"n_genes_by_counts\", \"total_counts\", \"pct_counts_mt\"],\n",
    "    jitter=0.4,\n",
    "    multi_panel=True,\n",
    ")\n",
    "    sc.pl.scatter(adata_sample, \"total_counts\", \"n_genes_by_counts\", color=\"pct_counts_mt\")\n"
   ]
  },
  {
   "cell_type": "markdown",
   "metadata": {},
   "source": [
    "Combining data for further analysis"
   ]
  },
  {
   "cell_type": "code",
   "execution_count": 10,
   "metadata": {},
   "outputs": [
    {
     "ename": "AttributeError",
     "evalue": "'list' object has no attribute 'keys'",
     "output_type": "error",
     "traceback": [
      "\u001b[0;31m---------------------------------------------------------------------------\u001b[0m",
      "\u001b[0;31mAttributeError\u001b[0m                            Traceback (most recent call last)",
      "Cell \u001b[0;32mIn[10], line 1\u001b[0m\n\u001b[0;32m----> 1\u001b[0m adata_filtered \u001b[38;5;241m=\u001b[39m adata_by_sample[\u001b[38;5;28mlist\u001b[39m(\u001b[43madata_by_sample\u001b[49m\u001b[38;5;241;43m.\u001b[39;49m\u001b[43mkeys\u001b[49m())[\u001b[38;5;241m0\u001b[39m]]\n\u001b[1;32m      3\u001b[0m \u001b[38;5;28;01mif\u001b[39;00m \u001b[38;5;28mlen\u001b[39m(adata_by_sample) \u001b[38;5;241m>\u001b[39m \u001b[38;5;241m1\u001b[39m:\n\u001b[1;32m      4\u001b[0m     cols_to_drop \u001b[38;5;241m=\u001b[39m [\u001b[38;5;124m'\u001b[39m\u001b[38;5;124mn_cells_by_counts\u001b[39m\u001b[38;5;124m'\u001b[39m, \u001b[38;5;124m'\u001b[39m\u001b[38;5;124mmean_counts\u001b[39m\u001b[38;5;124m'\u001b[39m, \u001b[38;5;124m'\u001b[39m\u001b[38;5;124mlog1p_mean_counts\u001b[39m\u001b[38;5;124m'\u001b[39m, \u001b[38;5;124m'\u001b[39m\u001b[38;5;124mpct_dropout_by_counts\u001b[39m\u001b[38;5;124m'\u001b[39m, \u001b[38;5;124m'\u001b[39m\u001b[38;5;124mtotal_counts\u001b[39m\u001b[38;5;124m'\u001b[39m, \u001b[38;5;124m'\u001b[39m\u001b[38;5;124mlog1p_total_counts\u001b[39m\u001b[38;5;124m'\u001b[39m]\n",
      "\u001b[0;31mAttributeError\u001b[0m: 'list' object has no attribute 'keys'"
     ]
    }
   ],
   "source": [
    "adata_filtered = adata_by_sample[list(adata_by_sample.keys())[0]]\n",
    "\n",
    "if len(adata_by_sample) > 1:\n",
    "    cols_to_drop = ['n_cells_by_counts', 'mean_counts', 'log1p_mean_counts', 'pct_dropout_by_counts', 'total_counts', 'log1p_total_counts']\n",
    "    adata_sample.obs.drop(cols_to_drop, axis=1, inplace=True, errors='ignore')\n",
    "\n",
    "adata_filtered = adata_filtered.concatenate(adata_by_sample[sample].obs for sample in list(adata_by_sample.keys())[1:])"
   ]
  },
  {
   "cell_type": "code",
   "execution_count": null,
   "metadata": {},
   "outputs": [],
   "source": [
    "adata_filtered"
   ]
  },
  {
   "cell_type": "code",
   "execution_count": 25,
   "metadata": {},
   "outputs": [
    {
     "data": {
      "text/html": [
       "<div>\n",
       "<style scoped>\n",
       "    .dataframe tbody tr th:only-of-type {\n",
       "        vertical-align: middle;\n",
       "    }\n",
       "\n",
       "    .dataframe tbody tr th {\n",
       "        vertical-align: top;\n",
       "    }\n",
       "\n",
       "    .dataframe thead th {\n",
       "        text-align: right;\n",
       "    }\n",
       "</style>\n",
       "<table border=\"1\" class=\"dataframe\">\n",
       "  <thead>\n",
       "    <tr style=\"text-align: right;\">\n",
       "      <th></th>\n",
       "      <th>barcode</th>\n",
       "      <th>Tissue</th>\n",
       "      <th>sample</th>\n",
       "      <th>n_genes_by_counts</th>\n",
       "      <th>log1p_n_genes_by_counts</th>\n",
       "      <th>total_counts</th>\n",
       "      <th>log1p_total_counts</th>\n",
       "      <th>pct_counts_in_top_50_genes</th>\n",
       "      <th>pct_counts_in_top_100_genes</th>\n",
       "      <th>pct_counts_in_top_200_genes</th>\n",
       "      <th>pct_counts_in_top_500_genes</th>\n",
       "      <th>pct_counts_mt</th>\n",
       "      <th>pct_counts_ribo</th>\n",
       "      <th>pct_counts_hb</th>\n",
       "      <th>doublet</th>\n",
       "      <th>doublet_score</th>\n",
       "    </tr>\n",
       "  </thead>\n",
       "  <tbody>\n",
       "    <tr>\n",
       "      <th>ACTATCTAGACAGAGA_LUNG_N01</th>\n",
       "      <td>ACTATCTAGACAGAGA</td>\n",
       "      <td>LUNG</td>\n",
       "      <td>N01</td>\n",
       "      <td>1254</td>\n",
       "      <td>7.134891</td>\n",
       "      <td>3020</td>\n",
       "      <td>8.013343</td>\n",
       "      <td>36.754967</td>\n",
       "      <td>48.874172</td>\n",
       "      <td>60.033113</td>\n",
       "      <td>75.033113</td>\n",
       "      <td>5.794702</td>\n",
       "      <td>21.622517</td>\n",
       "      <td>0.000000</td>\n",
       "      <td>0.0</td>\n",
       "      <td>0.000015</td>\n",
       "    </tr>\n",
       "    <tr>\n",
       "      <th>CCGGGATCACCTCGGA_LUNG_N01</th>\n",
       "      <td>CCGGGATCACCTCGGA</td>\n",
       "      <td>LUNG</td>\n",
       "      <td>N01</td>\n",
       "      <td>986</td>\n",
       "      <td>6.894670</td>\n",
       "      <td>2406</td>\n",
       "      <td>7.786136</td>\n",
       "      <td>37.032419</td>\n",
       "      <td>50.083126</td>\n",
       "      <td>62.967581</td>\n",
       "      <td>79.800499</td>\n",
       "      <td>5.320033</td>\n",
       "      <td>25.768911</td>\n",
       "      <td>0.000000</td>\n",
       "      <td>0.0</td>\n",
       "      <td>0.055152</td>\n",
       "    </tr>\n",
       "    <tr>\n",
       "      <th>CCGGGATCAGCTCGAC_LUNG_N01</th>\n",
       "      <td>CCGGGATCAGCTCGAC</td>\n",
       "      <td>LUNG</td>\n",
       "      <td>N01</td>\n",
       "      <td>1326</td>\n",
       "      <td>7.190676</td>\n",
       "      <td>3362</td>\n",
       "      <td>8.120589</td>\n",
       "      <td>37.477692</td>\n",
       "      <td>50.297442</td>\n",
       "      <td>61.511005</td>\n",
       "      <td>75.431291</td>\n",
       "      <td>4.878049</td>\n",
       "      <td>26.650803</td>\n",
       "      <td>0.000000</td>\n",
       "      <td>0.0</td>\n",
       "      <td>3.322630</td>\n",
       "    </tr>\n",
       "    <tr>\n",
       "      <th>CCGGTAGAGCACAGGT_LUNG_N01</th>\n",
       "      <td>CCGGTAGAGCACAGGT</td>\n",
       "      <td>LUNG</td>\n",
       "      <td>N01</td>\n",
       "      <td>547</td>\n",
       "      <td>6.306275</td>\n",
       "      <td>1198</td>\n",
       "      <td>7.089243</td>\n",
       "      <td>42.988314</td>\n",
       "      <td>59.432387</td>\n",
       "      <td>71.035058</td>\n",
       "      <td>96.076795</td>\n",
       "      <td>7.262104</td>\n",
       "      <td>38.397329</td>\n",
       "      <td>0.000000</td>\n",
       "      <td>0.0</td>\n",
       "      <td>2.092028</td>\n",
       "    </tr>\n",
       "    <tr>\n",
       "      <th>CCGGTAGAGCTAGGCA_LUNG_N01</th>\n",
       "      <td>CCGGTAGAGCTAGGCA</td>\n",
       "      <td>LUNG</td>\n",
       "      <td>N01</td>\n",
       "      <td>1204</td>\n",
       "      <td>7.094235</td>\n",
       "      <td>2815</td>\n",
       "      <td>7.943073</td>\n",
       "      <td>34.103020</td>\n",
       "      <td>47.069272</td>\n",
       "      <td>59.005329</td>\n",
       "      <td>74.991119</td>\n",
       "      <td>3.161634</td>\n",
       "      <td>22.202487</td>\n",
       "      <td>0.000000</td>\n",
       "      <td>0.0</td>\n",
       "      <td>0.209435</td>\n",
       "    </tr>\n",
       "    <tr>\n",
       "      <th>...</th>\n",
       "      <td>...</td>\n",
       "      <td>...</td>\n",
       "      <td>...</td>\n",
       "      <td>...</td>\n",
       "      <td>...</td>\n",
       "      <td>...</td>\n",
       "      <td>...</td>\n",
       "      <td>...</td>\n",
       "      <td>...</td>\n",
       "      <td>...</td>\n",
       "      <td>...</td>\n",
       "      <td>...</td>\n",
       "      <td>...</td>\n",
       "      <td>...</td>\n",
       "      <td>...</td>\n",
       "      <td>...</td>\n",
       "    </tr>\n",
       "    <tr>\n",
       "      <th>CCCAGTTTCAACGGCC_LUNG_N34</th>\n",
       "      <td>CCCAGTTTCAACGGCC</td>\n",
       "      <td>LUNG</td>\n",
       "      <td>N34</td>\n",
       "      <td>1022</td>\n",
       "      <td>6.930495</td>\n",
       "      <td>2903</td>\n",
       "      <td>7.973844</td>\n",
       "      <td>39.614192</td>\n",
       "      <td>53.806407</td>\n",
       "      <td>67.378574</td>\n",
       "      <td>82.018601</td>\n",
       "      <td>4.443679</td>\n",
       "      <td>22.425078</td>\n",
       "      <td>0.000000</td>\n",
       "      <td>0.0</td>\n",
       "      <td>5.005514</td>\n",
       "    </tr>\n",
       "    <tr>\n",
       "      <th>CCCAGTTTCGTTTATC_LUNG_N34</th>\n",
       "      <td>CCCAGTTTCGTTTATC</td>\n",
       "      <td>LUNG</td>\n",
       "      <td>N34</td>\n",
       "      <td>479</td>\n",
       "      <td>6.173786</td>\n",
       "      <td>1058</td>\n",
       "      <td>6.965080</td>\n",
       "      <td>44.706994</td>\n",
       "      <td>60.113422</td>\n",
       "      <td>73.629490</td>\n",
       "      <td>100.000000</td>\n",
       "      <td>3.686200</td>\n",
       "      <td>34.971645</td>\n",
       "      <td>0.000000</td>\n",
       "      <td>0.0</td>\n",
       "      <td>7.672589</td>\n",
       "    </tr>\n",
       "    <tr>\n",
       "      <th>CCCATACCAAGTCTGT_LUNG_N34</th>\n",
       "      <td>CCCATACCAAGTCTGT</td>\n",
       "      <td>LUNG</td>\n",
       "      <td>N34</td>\n",
       "      <td>858</td>\n",
       "      <td>6.755769</td>\n",
       "      <td>2249</td>\n",
       "      <td>7.718685</td>\n",
       "      <td>41.974211</td>\n",
       "      <td>56.425078</td>\n",
       "      <td>68.786127</td>\n",
       "      <td>84.081814</td>\n",
       "      <td>5.735883</td>\n",
       "      <td>28.368164</td>\n",
       "      <td>0.088928</td>\n",
       "      <td>0.0</td>\n",
       "      <td>0.000106</td>\n",
       "    </tr>\n",
       "    <tr>\n",
       "      <th>CCCAATCGTTTGGGCC_LUNG_N34</th>\n",
       "      <td>CCCAATCGTTTGGGCC</td>\n",
       "      <td>LUNG</td>\n",
       "      <td>N34</td>\n",
       "      <td>790</td>\n",
       "      <td>6.673298</td>\n",
       "      <td>1843</td>\n",
       "      <td>7.519692</td>\n",
       "      <td>39.283776</td>\n",
       "      <td>54.856213</td>\n",
       "      <td>67.498644</td>\n",
       "      <td>84.264786</td>\n",
       "      <td>5.046120</td>\n",
       "      <td>33.803581</td>\n",
       "      <td>0.054259</td>\n",
       "      <td>0.0</td>\n",
       "      <td>0.001323</td>\n",
       "    </tr>\n",
       "    <tr>\n",
       "      <th>AGTCTTTGTGTGTGCC_LUNG_N34</th>\n",
       "      <td>AGTCTTTGTGTGTGCC</td>\n",
       "      <td>LUNG</td>\n",
       "      <td>N34</td>\n",
       "      <td>1427</td>\n",
       "      <td>7.264030</td>\n",
       "      <td>4779</td>\n",
       "      <td>8.472196</td>\n",
       "      <td>38.146056</td>\n",
       "      <td>52.102950</td>\n",
       "      <td>65.683197</td>\n",
       "      <td>80.581712</td>\n",
       "      <td>6.716886</td>\n",
       "      <td>25.486503</td>\n",
       "      <td>0.083700</td>\n",
       "      <td>0.0</td>\n",
       "      <td>9.022075</td>\n",
       "    </tr>\n",
       "  </tbody>\n",
       "</table>\n",
       "<p>25172 rows × 16 columns</p>\n",
       "</div>"
      ],
      "text/plain": [
       "                                    barcode Tissue sample  n_genes_by_counts  \\\n",
       "ACTATCTAGACAGAGA_LUNG_N01  ACTATCTAGACAGAGA   LUNG    N01               1254   \n",
       "CCGGGATCACCTCGGA_LUNG_N01  CCGGGATCACCTCGGA   LUNG    N01                986   \n",
       "CCGGGATCAGCTCGAC_LUNG_N01  CCGGGATCAGCTCGAC   LUNG    N01               1326   \n",
       "CCGGTAGAGCACAGGT_LUNG_N01  CCGGTAGAGCACAGGT   LUNG    N01                547   \n",
       "CCGGTAGAGCTAGGCA_LUNG_N01  CCGGTAGAGCTAGGCA   LUNG    N01               1204   \n",
       "...                                     ...    ...    ...                ...   \n",
       "CCCAGTTTCAACGGCC_LUNG_N34  CCCAGTTTCAACGGCC   LUNG    N34               1022   \n",
       "CCCAGTTTCGTTTATC_LUNG_N34  CCCAGTTTCGTTTATC   LUNG    N34                479   \n",
       "CCCATACCAAGTCTGT_LUNG_N34  CCCATACCAAGTCTGT   LUNG    N34                858   \n",
       "CCCAATCGTTTGGGCC_LUNG_N34  CCCAATCGTTTGGGCC   LUNG    N34                790   \n",
       "AGTCTTTGTGTGTGCC_LUNG_N34  AGTCTTTGTGTGTGCC   LUNG    N34               1427   \n",
       "\n",
       "                           log1p_n_genes_by_counts  total_counts  \\\n",
       "ACTATCTAGACAGAGA_LUNG_N01                 7.134891          3020   \n",
       "CCGGGATCACCTCGGA_LUNG_N01                 6.894670          2406   \n",
       "CCGGGATCAGCTCGAC_LUNG_N01                 7.190676          3362   \n",
       "CCGGTAGAGCACAGGT_LUNG_N01                 6.306275          1198   \n",
       "CCGGTAGAGCTAGGCA_LUNG_N01                 7.094235          2815   \n",
       "...                                            ...           ...   \n",
       "CCCAGTTTCAACGGCC_LUNG_N34                 6.930495          2903   \n",
       "CCCAGTTTCGTTTATC_LUNG_N34                 6.173786          1058   \n",
       "CCCATACCAAGTCTGT_LUNG_N34                 6.755769          2249   \n",
       "CCCAATCGTTTGGGCC_LUNG_N34                 6.673298          1843   \n",
       "AGTCTTTGTGTGTGCC_LUNG_N34                 7.264030          4779   \n",
       "\n",
       "                           log1p_total_counts  pct_counts_in_top_50_genes  \\\n",
       "ACTATCTAGACAGAGA_LUNG_N01            8.013343                   36.754967   \n",
       "CCGGGATCACCTCGGA_LUNG_N01            7.786136                   37.032419   \n",
       "CCGGGATCAGCTCGAC_LUNG_N01            8.120589                   37.477692   \n",
       "CCGGTAGAGCACAGGT_LUNG_N01            7.089243                   42.988314   \n",
       "CCGGTAGAGCTAGGCA_LUNG_N01            7.943073                   34.103020   \n",
       "...                                       ...                         ...   \n",
       "CCCAGTTTCAACGGCC_LUNG_N34            7.973844                   39.614192   \n",
       "CCCAGTTTCGTTTATC_LUNG_N34            6.965080                   44.706994   \n",
       "CCCATACCAAGTCTGT_LUNG_N34            7.718685                   41.974211   \n",
       "CCCAATCGTTTGGGCC_LUNG_N34            7.519692                   39.283776   \n",
       "AGTCTTTGTGTGTGCC_LUNG_N34            8.472196                   38.146056   \n",
       "\n",
       "                           pct_counts_in_top_100_genes  \\\n",
       "ACTATCTAGACAGAGA_LUNG_N01                    48.874172   \n",
       "CCGGGATCACCTCGGA_LUNG_N01                    50.083126   \n",
       "CCGGGATCAGCTCGAC_LUNG_N01                    50.297442   \n",
       "CCGGTAGAGCACAGGT_LUNG_N01                    59.432387   \n",
       "CCGGTAGAGCTAGGCA_LUNG_N01                    47.069272   \n",
       "...                                                ...   \n",
       "CCCAGTTTCAACGGCC_LUNG_N34                    53.806407   \n",
       "CCCAGTTTCGTTTATC_LUNG_N34                    60.113422   \n",
       "CCCATACCAAGTCTGT_LUNG_N34                    56.425078   \n",
       "CCCAATCGTTTGGGCC_LUNG_N34                    54.856213   \n",
       "AGTCTTTGTGTGTGCC_LUNG_N34                    52.102950   \n",
       "\n",
       "                           pct_counts_in_top_200_genes  \\\n",
       "ACTATCTAGACAGAGA_LUNG_N01                    60.033113   \n",
       "CCGGGATCACCTCGGA_LUNG_N01                    62.967581   \n",
       "CCGGGATCAGCTCGAC_LUNG_N01                    61.511005   \n",
       "CCGGTAGAGCACAGGT_LUNG_N01                    71.035058   \n",
       "CCGGTAGAGCTAGGCA_LUNG_N01                    59.005329   \n",
       "...                                                ...   \n",
       "CCCAGTTTCAACGGCC_LUNG_N34                    67.378574   \n",
       "CCCAGTTTCGTTTATC_LUNG_N34                    73.629490   \n",
       "CCCATACCAAGTCTGT_LUNG_N34                    68.786127   \n",
       "CCCAATCGTTTGGGCC_LUNG_N34                    67.498644   \n",
       "AGTCTTTGTGTGTGCC_LUNG_N34                    65.683197   \n",
       "\n",
       "                           pct_counts_in_top_500_genes  pct_counts_mt  \\\n",
       "ACTATCTAGACAGAGA_LUNG_N01                    75.033113       5.794702   \n",
       "CCGGGATCACCTCGGA_LUNG_N01                    79.800499       5.320033   \n",
       "CCGGGATCAGCTCGAC_LUNG_N01                    75.431291       4.878049   \n",
       "CCGGTAGAGCACAGGT_LUNG_N01                    96.076795       7.262104   \n",
       "CCGGTAGAGCTAGGCA_LUNG_N01                    74.991119       3.161634   \n",
       "...                                                ...            ...   \n",
       "CCCAGTTTCAACGGCC_LUNG_N34                    82.018601       4.443679   \n",
       "CCCAGTTTCGTTTATC_LUNG_N34                   100.000000       3.686200   \n",
       "CCCATACCAAGTCTGT_LUNG_N34                    84.081814       5.735883   \n",
       "CCCAATCGTTTGGGCC_LUNG_N34                    84.264786       5.046120   \n",
       "AGTCTTTGTGTGTGCC_LUNG_N34                    80.581712       6.716886   \n",
       "\n",
       "                           pct_counts_ribo  pct_counts_hb  doublet  \\\n",
       "ACTATCTAGACAGAGA_LUNG_N01        21.622517       0.000000      0.0   \n",
       "CCGGGATCACCTCGGA_LUNG_N01        25.768911       0.000000      0.0   \n",
       "CCGGGATCAGCTCGAC_LUNG_N01        26.650803       0.000000      0.0   \n",
       "CCGGTAGAGCACAGGT_LUNG_N01        38.397329       0.000000      0.0   \n",
       "CCGGTAGAGCTAGGCA_LUNG_N01        22.202487       0.000000      0.0   \n",
       "...                                    ...            ...      ...   \n",
       "CCCAGTTTCAACGGCC_LUNG_N34        22.425078       0.000000      0.0   \n",
       "CCCAGTTTCGTTTATC_LUNG_N34        34.971645       0.000000      0.0   \n",
       "CCCATACCAAGTCTGT_LUNG_N34        28.368164       0.088928      0.0   \n",
       "CCCAATCGTTTGGGCC_LUNG_N34        33.803581       0.054259      0.0   \n",
       "AGTCTTTGTGTGTGCC_LUNG_N34        25.486503       0.083700      0.0   \n",
       "\n",
       "                           doublet_score  \n",
       "ACTATCTAGACAGAGA_LUNG_N01       0.000015  \n",
       "CCGGGATCACCTCGGA_LUNG_N01       0.055152  \n",
       "CCGGGATCAGCTCGAC_LUNG_N01       3.322630  \n",
       "CCGGTAGAGCACAGGT_LUNG_N01       2.092028  \n",
       "CCGGTAGAGCTAGGCA_LUNG_N01       0.209435  \n",
       "...                                  ...  \n",
       "CCCAGTTTCAACGGCC_LUNG_N34       5.005514  \n",
       "CCCAGTTTCGTTTATC_LUNG_N34       7.672589  \n",
       "CCCATACCAAGTCTGT_LUNG_N34       0.000106  \n",
       "CCCAATCGTTTGGGCC_LUNG_N34       0.001323  \n",
       "AGTCTTTGTGTGTGCC_LUNG_N34       9.022075  \n",
       "\n",
       "[25172 rows x 16 columns]"
      ]
     },
     "execution_count": 25,
     "metadata": {},
     "output_type": "execute_result"
    }
   ],
   "source": [
    "df = pd.concat([x.obs for x in adata_by_sample])\n",
    "df.sort_values('sample')"
   ]
  },
  {
   "cell_type": "code",
   "execution_count": 26,
   "metadata": {},
   "outputs": [
    {
     "name": "stderr",
     "output_type": "stream",
     "text": [
      "/scratch/sah2p/tools/miniconda3/envs/scanpy/lib/python3.9/site-packages/seaborn/axisgrid.py:123: UserWarning: Tight layout not applied. tight_layout cannot make Axes height small enough to accommodate all Axes decorations.\n",
      "  self._figure.tight_layout(*args, **kwargs)\n",
      "/scratch/sah2p/tools/miniconda3/envs/scanpy/lib/python3.9/site-packages/seaborn/axisgrid.py:123: UserWarning: Tight layout not applied. tight_layout cannot make Axes height small enough to accommodate all Axes decorations.\n",
      "  self._figure.tight_layout(*args, **kwargs)\n",
      "/scratch/sah2p/tools/miniconda3/envs/scanpy/lib/python3.9/site-packages/seaborn/axisgrid.py:123: UserWarning: Tight layout not applied. tight_layout cannot make Axes height small enough to accommodate all Axes decorations.\n",
      "  self._figure.tight_layout(*args, **kwargs)\n",
      "/scratch/sah2p/tools/miniconda3/envs/scanpy/lib/python3.9/site-packages/seaborn/axisgrid.py:123: UserWarning: Tight layout not applied. tight_layout cannot make Axes height small enough to accommodate all Axes decorations.\n",
      "  self._figure.tight_layout(*args, **kwargs)\n",
      "/scratch/sah2p/tools/miniconda3/envs/scanpy/lib/python3.9/site-packages/seaborn/axisgrid.py:123: UserWarning: Tight layout not applied. tight_layout cannot make Axes height small enough to accommodate all Axes decorations.\n",
      "  self._figure.tight_layout(*args, **kwargs)\n"
     ]
    }
   ],
   "source": [
    "import seaborn as sns\n",
    "import matplotlib.pyplot as plt\n",
    "#value = \"pct_counts_mt\"\n",
    "#value = \"n_genes\"\n",
    "#value = 'pct_counts_in_top_20_genes'\n",
    "value = \"log1p_total_counts\"\n",
    "\n",
    "sns.set(style=\"white\", rc={\"axes.facecolor\": (0, 0, 0, 0)})\n",
    "\n",
    "g = sns.FacetGrid(df, row=\"sample\", hue=\"sample\", aspect=15, height=0.5, palette=\"tab20\")\n",
    "\n",
    "g.map(sns.kdeplot, value, clip_on=False, fill=True, alpha=1, linewidth=1.5)\n",
    "g.map(sns.kdeplot, value, clip_on=False, color=\"w\", lw=2)\n",
    "\n",
    "g.map(plt.axhline, y=0, lw=2, clip_on=False)\n",
    "\n",
    "def label(x, color, label):\n",
    "    ax = plt.gca()\n",
    "    ax.text(0, .2, label, fontweight=\"bold\", color=color,\n",
    "            ha=\"left\", va=\"center\", transform=ax.transAxes)\n",
    "\n",
    "g.map(label, value)\n",
    "\n",
    "g.figure.subplots_adjust(hspace=-.6)\n",
    "\n",
    "g.set_titles(\"\")\n",
    "g.set(yticks=[], ylabel=\"\")\n",
    "g.despine(bottom=True, left=True)\n",
    "\n",
    "for ax in g.axes.flat:\n",
    "    ax.axvline(x=df[value].median(), color='r', linestyle='-')\n",
    "\n",
    "\n",
    "plt.show()"
   ]
  },
  {
   "cell_type": "code",
   "execution_count": 11,
   "metadata": {},
   "outputs": [],
   "source": [
    "import doubletdetection\n",
    "from scipy.stats import median_abs_deviation as mad\n",
    "import numpy as np"
   ]
  },
  {
   "cell_type": "code",
   "execution_count": 12,
   "metadata": {},
   "outputs": [],
   "source": [
    "def mad_outlier(adata, metric, nmads, upper_only = False):\n",
    "    M = adata.obs[metric]\n",
    "    \n",
    "    if not upper_only:\n",
    "        return (M < np.median(M) - nmads * mad(M)) | (M > np.median(M) + nmads * mad(M))\n",
    "    \n",
    "    return (M > np.median(M) + nmads * mad(M))"
   ]
  },
  {
   "cell_type": "code",
   "execution_count": 13,
   "metadata": {},
   "outputs": [],
   "source": [
    " clf = doubletdetection.BoostClassifier(\n",
    "    n_iters=10,\n",
    "    clustering_algorithm=\"louvain\",\n",
    "    standard_scaling=True,\n",
    "    pseudocount=0.1,\n",
    "    n_jobs=-1)"
   ]
  },
  {
   "cell_type": "code",
   "execution_count": 18,
   "metadata": {},
   "outputs": [],
   "source": [
    "def pp(adata):\n",
    "    adata = adata[adata.obs.pct_counts_mt < 10] #you can lower this based on the overal distribution of your dataset\n",
    "    \n",
    "    bool_vector = mad_outlier(adata, 'log1p_total_counts', 5) +\\\n",
    "            mad_outlier(adata, 'log1p_n_genes_by_counts', 5) +\\\n",
    "            mad_outlier(adata, 'pct_counts_in_top_50_genes', 5) +\\\n",
    "            mad_outlier(adata, 'pct_counts_mt', 3, upper_only = True)\n",
    "    adata = adata[~bool_vector]\n",
    "\n",
    "    adata.uns['cells_removed'] = sum(bool_vector)\n",
    "\n",
    "    doublets = clf.fit(adata.X).predict(p_thresh=1e-3, voter_thresh=0.5)\n",
    "    doublet_score = clf.doublet_score()\n",
    "\n",
    "    adata.obs[\"doublet\"] = doublets\n",
    "    adata.obs[\"doublet_score\"] = doublet_score\n",
    "\n",
    "    adata.uns['doublets_removed'] = adata.obs.doublet.sum()\n",
    "    adata = adata[adata.obs.doublet == 0]\n",
    "\n",
    "    return adata"
   ]
  },
  {
   "cell_type": "code",
   "execution_count": 19,
   "metadata": {},
   "outputs": [
    {
     "name": "stderr",
     "output_type": "stream",
     "text": [
      "/tmp/ipykernel_2486374/2690890389.py:10: ImplicitModificationWarning: Trying to modify attribute `._uns` of view, initializing view as actual.\n",
      "  adata.uns['cells_removed'] = sum(bool_vector)\n"
     ]
    },
    {
     "data": {
      "application/vnd.jupyter.widget-view+json": {
       "model_id": "658198a95e484757b17002f280d4731a",
       "version_major": 2,
       "version_minor": 0
      },
      "text/plain": [
       "  0%|          | 0/10 [00:00<?, ?it/s]"
      ]
     },
     "metadata": {},
     "output_type": "display_data"
    },
    {
     "name": "stderr",
     "output_type": "stream",
     "text": [
      "/tmp/ipykernel_2486374/2690890389.py:10: ImplicitModificationWarning: Trying to modify attribute `._uns` of view, initializing view as actual.\n",
      "  adata.uns['cells_removed'] = sum(bool_vector)\n"
     ]
    },
    {
     "data": {
      "application/vnd.jupyter.widget-view+json": {
       "model_id": "824ef653ce7b49739320aad08f93edbb",
       "version_major": 2,
       "version_minor": 0
      },
      "text/plain": [
       "  0%|          | 0/10 [00:00<?, ?it/s]"
      ]
     },
     "metadata": {},
     "output_type": "display_data"
    },
    {
     "name": "stderr",
     "output_type": "stream",
     "text": [
      "/tmp/ipykernel_2486374/2690890389.py:10: ImplicitModificationWarning: Trying to modify attribute `._uns` of view, initializing view as actual.\n",
      "  adata.uns['cells_removed'] = sum(bool_vector)\n"
     ]
    },
    {
     "data": {
      "application/vnd.jupyter.widget-view+json": {
       "model_id": "8864715d2d444a6a9f61dbe48ae4902b",
       "version_major": 2,
       "version_minor": 0
      },
      "text/plain": [
       "  0%|          | 0/10 [00:00<?, ?it/s]"
      ]
     },
     "metadata": {},
     "output_type": "display_data"
    },
    {
     "name": "stderr",
     "output_type": "stream",
     "text": [
      "/tmp/ipykernel_2486374/2690890389.py:10: ImplicitModificationWarning: Trying to modify attribute `._uns` of view, initializing view as actual.\n",
      "  adata.uns['cells_removed'] = sum(bool_vector)\n"
     ]
    },
    {
     "data": {
      "application/vnd.jupyter.widget-view+json": {
       "model_id": "cf5feec793cb42d985f923f538c14f89",
       "version_major": 2,
       "version_minor": 0
      },
      "text/plain": [
       "  0%|          | 0/10 [00:00<?, ?it/s]"
      ]
     },
     "metadata": {},
     "output_type": "display_data"
    },
    {
     "name": "stderr",
     "output_type": "stream",
     "text": [
      "/tmp/ipykernel_2486374/2690890389.py:10: ImplicitModificationWarning: Trying to modify attribute `._uns` of view, initializing view as actual.\n",
      "  adata.uns['cells_removed'] = sum(bool_vector)\n"
     ]
    },
    {
     "data": {
      "application/vnd.jupyter.widget-view+json": {
       "model_id": "f9169f458a7448368fa116828215226f",
       "version_major": 2,
       "version_minor": 0
      },
      "text/plain": [
       "  0%|          | 0/10 [00:00<?, ?it/s]"
      ]
     },
     "metadata": {},
     "output_type": "display_data"
    },
    {
     "name": "stderr",
     "output_type": "stream",
     "text": [
      "/tmp/ipykernel_2486374/2690890389.py:10: ImplicitModificationWarning: Trying to modify attribute `._uns` of view, initializing view as actual.\n",
      "  adata.uns['cells_removed'] = sum(bool_vector)\n"
     ]
    },
    {
     "data": {
      "application/vnd.jupyter.widget-view+json": {
       "model_id": "e4bf4580ce3d407f85d0df2a972084ac",
       "version_major": 2,
       "version_minor": 0
      },
      "text/plain": [
       "  0%|          | 0/10 [00:00<?, ?it/s]"
      ]
     },
     "metadata": {},
     "output_type": "display_data"
    },
    {
     "name": "stderr",
     "output_type": "stream",
     "text": [
      "/tmp/ipykernel_2486374/2690890389.py:10: ImplicitModificationWarning: Trying to modify attribute `._uns` of view, initializing view as actual.\n",
      "  adata.uns['cells_removed'] = sum(bool_vector)\n"
     ]
    },
    {
     "data": {
      "application/vnd.jupyter.widget-view+json": {
       "model_id": "a7ebf1d375274017978fdb5ef76fe81f",
       "version_major": 2,
       "version_minor": 0
      },
      "text/plain": [
       "  0%|          | 0/10 [00:00<?, ?it/s]"
      ]
     },
     "metadata": {},
     "output_type": "display_data"
    },
    {
     "name": "stderr",
     "output_type": "stream",
     "text": [
      "/tmp/ipykernel_2486374/2690890389.py:10: ImplicitModificationWarning: Trying to modify attribute `._uns` of view, initializing view as actual.\n",
      "  adata.uns['cells_removed'] = sum(bool_vector)\n"
     ]
    },
    {
     "data": {
      "application/vnd.jupyter.widget-view+json": {
       "model_id": "43b105facf234cee9461433cef753e0b",
       "version_major": 2,
       "version_minor": 0
      },
      "text/plain": [
       "  0%|          | 0/10 [00:00<?, ?it/s]"
      ]
     },
     "metadata": {},
     "output_type": "display_data"
    },
    {
     "name": "stderr",
     "output_type": "stream",
     "text": [
      "/tmp/ipykernel_2486374/2690890389.py:10: ImplicitModificationWarning: Trying to modify attribute `._uns` of view, initializing view as actual.\n",
      "  adata.uns['cells_removed'] = sum(bool_vector)\n"
     ]
    },
    {
     "data": {
      "application/vnd.jupyter.widget-view+json": {
       "model_id": "4ee1a32e609742f092facc7e60277d3a",
       "version_major": 2,
       "version_minor": 0
      },
      "text/plain": [
       "  0%|          | 0/10 [00:00<?, ?it/s]"
      ]
     },
     "metadata": {},
     "output_type": "display_data"
    },
    {
     "name": "stderr",
     "output_type": "stream",
     "text": [
      "/tmp/ipykernel_2486374/2690890389.py:10: ImplicitModificationWarning: Trying to modify attribute `._uns` of view, initializing view as actual.\n",
      "  adata.uns['cells_removed'] = sum(bool_vector)\n"
     ]
    },
    {
     "data": {
      "application/vnd.jupyter.widget-view+json": {
       "model_id": "24eb822609644c95b9b6165303193911",
       "version_major": 2,
       "version_minor": 0
      },
      "text/plain": [
       "  0%|          | 0/10 [00:00<?, ?it/s]"
      ]
     },
     "metadata": {},
     "output_type": "display_data"
    },
    {
     "name": "stderr",
     "output_type": "stream",
     "text": [
      "/tmp/ipykernel_2486374/2690890389.py:10: ImplicitModificationWarning: Trying to modify attribute `._uns` of view, initializing view as actual.\n",
      "  adata.uns['cells_removed'] = sum(bool_vector)\n"
     ]
    },
    {
     "data": {
      "application/vnd.jupyter.widget-view+json": {
       "model_id": "454fc1cfe1df422c940a34a35eed7b79",
       "version_major": 2,
       "version_minor": 0
      },
      "text/plain": [
       "  0%|          | 0/10 [00:00<?, ?it/s]"
      ]
     },
     "metadata": {},
     "output_type": "display_data"
    }
   ],
   "source": [
    "adata_by_sample = [pp(x) for x in adata_by_sample]"
   ]
  },
  {
   "cell_type": "code",
   "execution_count": 20,
   "metadata": {},
   "outputs": [
    {
     "name": "stdout",
     "output_type": "stream",
     "text": [
      "2641 119 127.0\n",
      "2756 185 95.0\n",
      "2854 143 124.0\n",
      "3889 153 81.0\n",
      "1696 208 47.0\n",
      "1243 148 25.0\n",
      "2816 333 23.0\n",
      "973 93 9.0\n",
      "2218 212 113.0\n",
      "2030 61 58.0\n",
      "2056 87 64.0\n"
     ]
    }
   ],
   "source": [
    "for adata in adata_by_sample:\n",
    "    print(len(adata), adata.uns['cells_removed'], adata.uns['doublets_removed'])"
   ]
  },
  {
   "cell_type": "code",
   "execution_count": 21,
   "metadata": {},
   "outputs": [],
   "source": [
    "df2 = pd.concat([x.obs for x in adata_by_sample])\n",
    "df2 = df2.sort_values('sample')"
   ]
  },
  {
   "cell_type": "code",
   "execution_count": 22,
   "metadata": {},
   "outputs": [
    {
     "data": {
      "text/html": [
       "<div>\n",
       "<style scoped>\n",
       "    .dataframe tbody tr th:only-of-type {\n",
       "        vertical-align: middle;\n",
       "    }\n",
       "\n",
       "    .dataframe tbody tr th {\n",
       "        vertical-align: top;\n",
       "    }\n",
       "\n",
       "    .dataframe thead th {\n",
       "        text-align: right;\n",
       "    }\n",
       "</style>\n",
       "<table border=\"1\" class=\"dataframe\">\n",
       "  <thead>\n",
       "    <tr style=\"text-align: right;\">\n",
       "      <th></th>\n",
       "      <th>barcode</th>\n",
       "      <th>Tissue</th>\n",
       "      <th>sample</th>\n",
       "      <th>n_genes_by_counts</th>\n",
       "      <th>log1p_n_genes_by_counts</th>\n",
       "      <th>total_counts</th>\n",
       "      <th>log1p_total_counts</th>\n",
       "      <th>pct_counts_in_top_50_genes</th>\n",
       "      <th>pct_counts_in_top_100_genes</th>\n",
       "      <th>pct_counts_in_top_200_genes</th>\n",
       "      <th>pct_counts_in_top_500_genes</th>\n",
       "      <th>pct_counts_mt</th>\n",
       "      <th>pct_counts_ribo</th>\n",
       "      <th>pct_counts_hb</th>\n",
       "      <th>doublet</th>\n",
       "      <th>doublet_score</th>\n",
       "    </tr>\n",
       "  </thead>\n",
       "  <tbody>\n",
       "    <tr>\n",
       "      <th>ACTATCTAGACAGAGA_LUNG_N01</th>\n",
       "      <td>ACTATCTAGACAGAGA</td>\n",
       "      <td>LUNG</td>\n",
       "      <td>N01</td>\n",
       "      <td>1254</td>\n",
       "      <td>7.134891</td>\n",
       "      <td>3020</td>\n",
       "      <td>8.013343</td>\n",
       "      <td>36.754967</td>\n",
       "      <td>48.874172</td>\n",
       "      <td>60.033113</td>\n",
       "      <td>75.033113</td>\n",
       "      <td>5.794702</td>\n",
       "      <td>21.622517</td>\n",
       "      <td>0.000000</td>\n",
       "      <td>0.0</td>\n",
       "      <td>0.000015</td>\n",
       "    </tr>\n",
       "    <tr>\n",
       "      <th>CCGGGATCACCTCGGA_LUNG_N01</th>\n",
       "      <td>CCGGGATCACCTCGGA</td>\n",
       "      <td>LUNG</td>\n",
       "      <td>N01</td>\n",
       "      <td>986</td>\n",
       "      <td>6.894670</td>\n",
       "      <td>2406</td>\n",
       "      <td>7.786136</td>\n",
       "      <td>37.032419</td>\n",
       "      <td>50.083126</td>\n",
       "      <td>62.967581</td>\n",
       "      <td>79.800499</td>\n",
       "      <td>5.320033</td>\n",
       "      <td>25.768911</td>\n",
       "      <td>0.000000</td>\n",
       "      <td>0.0</td>\n",
       "      <td>0.055152</td>\n",
       "    </tr>\n",
       "    <tr>\n",
       "      <th>CCGGGATCAGCTCGAC_LUNG_N01</th>\n",
       "      <td>CCGGGATCAGCTCGAC</td>\n",
       "      <td>LUNG</td>\n",
       "      <td>N01</td>\n",
       "      <td>1326</td>\n",
       "      <td>7.190676</td>\n",
       "      <td>3362</td>\n",
       "      <td>8.120589</td>\n",
       "      <td>37.477692</td>\n",
       "      <td>50.297442</td>\n",
       "      <td>61.511005</td>\n",
       "      <td>75.431291</td>\n",
       "      <td>4.878049</td>\n",
       "      <td>26.650803</td>\n",
       "      <td>0.000000</td>\n",
       "      <td>0.0</td>\n",
       "      <td>3.322630</td>\n",
       "    </tr>\n",
       "    <tr>\n",
       "      <th>CCGGTAGAGCACAGGT_LUNG_N01</th>\n",
       "      <td>CCGGTAGAGCACAGGT</td>\n",
       "      <td>LUNG</td>\n",
       "      <td>N01</td>\n",
       "      <td>547</td>\n",
       "      <td>6.306275</td>\n",
       "      <td>1198</td>\n",
       "      <td>7.089243</td>\n",
       "      <td>42.988314</td>\n",
       "      <td>59.432387</td>\n",
       "      <td>71.035058</td>\n",
       "      <td>96.076795</td>\n",
       "      <td>7.262104</td>\n",
       "      <td>38.397329</td>\n",
       "      <td>0.000000</td>\n",
       "      <td>0.0</td>\n",
       "      <td>2.092028</td>\n",
       "    </tr>\n",
       "    <tr>\n",
       "      <th>CCGGTAGAGCTAGGCA_LUNG_N01</th>\n",
       "      <td>CCGGTAGAGCTAGGCA</td>\n",
       "      <td>LUNG</td>\n",
       "      <td>N01</td>\n",
       "      <td>1204</td>\n",
       "      <td>7.094235</td>\n",
       "      <td>2815</td>\n",
       "      <td>7.943073</td>\n",
       "      <td>34.103020</td>\n",
       "      <td>47.069272</td>\n",
       "      <td>59.005329</td>\n",
       "      <td>74.991119</td>\n",
       "      <td>3.161634</td>\n",
       "      <td>22.202487</td>\n",
       "      <td>0.000000</td>\n",
       "      <td>0.0</td>\n",
       "      <td>0.209435</td>\n",
       "    </tr>\n",
       "    <tr>\n",
       "      <th>...</th>\n",
       "      <td>...</td>\n",
       "      <td>...</td>\n",
       "      <td>...</td>\n",
       "      <td>...</td>\n",
       "      <td>...</td>\n",
       "      <td>...</td>\n",
       "      <td>...</td>\n",
       "      <td>...</td>\n",
       "      <td>...</td>\n",
       "      <td>...</td>\n",
       "      <td>...</td>\n",
       "      <td>...</td>\n",
       "      <td>...</td>\n",
       "      <td>...</td>\n",
       "      <td>...</td>\n",
       "      <td>...</td>\n",
       "    </tr>\n",
       "    <tr>\n",
       "      <th>CCCAGTTTCAACGGCC_LUNG_N34</th>\n",
       "      <td>CCCAGTTTCAACGGCC</td>\n",
       "      <td>LUNG</td>\n",
       "      <td>N34</td>\n",
       "      <td>1022</td>\n",
       "      <td>6.930495</td>\n",
       "      <td>2903</td>\n",
       "      <td>7.973844</td>\n",
       "      <td>39.614192</td>\n",
       "      <td>53.806407</td>\n",
       "      <td>67.378574</td>\n",
       "      <td>82.018601</td>\n",
       "      <td>4.443679</td>\n",
       "      <td>22.425078</td>\n",
       "      <td>0.000000</td>\n",
       "      <td>0.0</td>\n",
       "      <td>5.005514</td>\n",
       "    </tr>\n",
       "    <tr>\n",
       "      <th>CCCAGTTTCGTTTATC_LUNG_N34</th>\n",
       "      <td>CCCAGTTTCGTTTATC</td>\n",
       "      <td>LUNG</td>\n",
       "      <td>N34</td>\n",
       "      <td>479</td>\n",
       "      <td>6.173786</td>\n",
       "      <td>1058</td>\n",
       "      <td>6.965080</td>\n",
       "      <td>44.706994</td>\n",
       "      <td>60.113422</td>\n",
       "      <td>73.629490</td>\n",
       "      <td>100.000000</td>\n",
       "      <td>3.686200</td>\n",
       "      <td>34.971645</td>\n",
       "      <td>0.000000</td>\n",
       "      <td>0.0</td>\n",
       "      <td>7.672589</td>\n",
       "    </tr>\n",
       "    <tr>\n",
       "      <th>CCCATACCAAGTCTGT_LUNG_N34</th>\n",
       "      <td>CCCATACCAAGTCTGT</td>\n",
       "      <td>LUNG</td>\n",
       "      <td>N34</td>\n",
       "      <td>858</td>\n",
       "      <td>6.755769</td>\n",
       "      <td>2249</td>\n",
       "      <td>7.718685</td>\n",
       "      <td>41.974211</td>\n",
       "      <td>56.425078</td>\n",
       "      <td>68.786127</td>\n",
       "      <td>84.081814</td>\n",
       "      <td>5.735883</td>\n",
       "      <td>28.368164</td>\n",
       "      <td>0.088928</td>\n",
       "      <td>0.0</td>\n",
       "      <td>0.000106</td>\n",
       "    </tr>\n",
       "    <tr>\n",
       "      <th>CCCAATCGTTTGGGCC_LUNG_N34</th>\n",
       "      <td>CCCAATCGTTTGGGCC</td>\n",
       "      <td>LUNG</td>\n",
       "      <td>N34</td>\n",
       "      <td>790</td>\n",
       "      <td>6.673298</td>\n",
       "      <td>1843</td>\n",
       "      <td>7.519692</td>\n",
       "      <td>39.283776</td>\n",
       "      <td>54.856213</td>\n",
       "      <td>67.498644</td>\n",
       "      <td>84.264786</td>\n",
       "      <td>5.046120</td>\n",
       "      <td>33.803581</td>\n",
       "      <td>0.054259</td>\n",
       "      <td>0.0</td>\n",
       "      <td>0.001323</td>\n",
       "    </tr>\n",
       "    <tr>\n",
       "      <th>AGTCTTTGTGTGTGCC_LUNG_N34</th>\n",
       "      <td>AGTCTTTGTGTGTGCC</td>\n",
       "      <td>LUNG</td>\n",
       "      <td>N34</td>\n",
       "      <td>1427</td>\n",
       "      <td>7.264030</td>\n",
       "      <td>4779</td>\n",
       "      <td>8.472196</td>\n",
       "      <td>38.146056</td>\n",
       "      <td>52.102950</td>\n",
       "      <td>65.683197</td>\n",
       "      <td>80.581712</td>\n",
       "      <td>6.716886</td>\n",
       "      <td>25.486503</td>\n",
       "      <td>0.083700</td>\n",
       "      <td>0.0</td>\n",
       "      <td>9.022075</td>\n",
       "    </tr>\n",
       "  </tbody>\n",
       "</table>\n",
       "<p>25172 rows × 16 columns</p>\n",
       "</div>"
      ],
      "text/plain": [
       "                                    barcode Tissue sample  n_genes_by_counts  \\\n",
       "ACTATCTAGACAGAGA_LUNG_N01  ACTATCTAGACAGAGA   LUNG    N01               1254   \n",
       "CCGGGATCACCTCGGA_LUNG_N01  CCGGGATCACCTCGGA   LUNG    N01                986   \n",
       "CCGGGATCAGCTCGAC_LUNG_N01  CCGGGATCAGCTCGAC   LUNG    N01               1326   \n",
       "CCGGTAGAGCACAGGT_LUNG_N01  CCGGTAGAGCACAGGT   LUNG    N01                547   \n",
       "CCGGTAGAGCTAGGCA_LUNG_N01  CCGGTAGAGCTAGGCA   LUNG    N01               1204   \n",
       "...                                     ...    ...    ...                ...   \n",
       "CCCAGTTTCAACGGCC_LUNG_N34  CCCAGTTTCAACGGCC   LUNG    N34               1022   \n",
       "CCCAGTTTCGTTTATC_LUNG_N34  CCCAGTTTCGTTTATC   LUNG    N34                479   \n",
       "CCCATACCAAGTCTGT_LUNG_N34  CCCATACCAAGTCTGT   LUNG    N34                858   \n",
       "CCCAATCGTTTGGGCC_LUNG_N34  CCCAATCGTTTGGGCC   LUNG    N34                790   \n",
       "AGTCTTTGTGTGTGCC_LUNG_N34  AGTCTTTGTGTGTGCC   LUNG    N34               1427   \n",
       "\n",
       "                           log1p_n_genes_by_counts  total_counts  \\\n",
       "ACTATCTAGACAGAGA_LUNG_N01                 7.134891          3020   \n",
       "CCGGGATCACCTCGGA_LUNG_N01                 6.894670          2406   \n",
       "CCGGGATCAGCTCGAC_LUNG_N01                 7.190676          3362   \n",
       "CCGGTAGAGCACAGGT_LUNG_N01                 6.306275          1198   \n",
       "CCGGTAGAGCTAGGCA_LUNG_N01                 7.094235          2815   \n",
       "...                                            ...           ...   \n",
       "CCCAGTTTCAACGGCC_LUNG_N34                 6.930495          2903   \n",
       "CCCAGTTTCGTTTATC_LUNG_N34                 6.173786          1058   \n",
       "CCCATACCAAGTCTGT_LUNG_N34                 6.755769          2249   \n",
       "CCCAATCGTTTGGGCC_LUNG_N34                 6.673298          1843   \n",
       "AGTCTTTGTGTGTGCC_LUNG_N34                 7.264030          4779   \n",
       "\n",
       "                           log1p_total_counts  pct_counts_in_top_50_genes  \\\n",
       "ACTATCTAGACAGAGA_LUNG_N01            8.013343                   36.754967   \n",
       "CCGGGATCACCTCGGA_LUNG_N01            7.786136                   37.032419   \n",
       "CCGGGATCAGCTCGAC_LUNG_N01            8.120589                   37.477692   \n",
       "CCGGTAGAGCACAGGT_LUNG_N01            7.089243                   42.988314   \n",
       "CCGGTAGAGCTAGGCA_LUNG_N01            7.943073                   34.103020   \n",
       "...                                       ...                         ...   \n",
       "CCCAGTTTCAACGGCC_LUNG_N34            7.973844                   39.614192   \n",
       "CCCAGTTTCGTTTATC_LUNG_N34            6.965080                   44.706994   \n",
       "CCCATACCAAGTCTGT_LUNG_N34            7.718685                   41.974211   \n",
       "CCCAATCGTTTGGGCC_LUNG_N34            7.519692                   39.283776   \n",
       "AGTCTTTGTGTGTGCC_LUNG_N34            8.472196                   38.146056   \n",
       "\n",
       "                           pct_counts_in_top_100_genes  \\\n",
       "ACTATCTAGACAGAGA_LUNG_N01                    48.874172   \n",
       "CCGGGATCACCTCGGA_LUNG_N01                    50.083126   \n",
       "CCGGGATCAGCTCGAC_LUNG_N01                    50.297442   \n",
       "CCGGTAGAGCACAGGT_LUNG_N01                    59.432387   \n",
       "CCGGTAGAGCTAGGCA_LUNG_N01                    47.069272   \n",
       "...                                                ...   \n",
       "CCCAGTTTCAACGGCC_LUNG_N34                    53.806407   \n",
       "CCCAGTTTCGTTTATC_LUNG_N34                    60.113422   \n",
       "CCCATACCAAGTCTGT_LUNG_N34                    56.425078   \n",
       "CCCAATCGTTTGGGCC_LUNG_N34                    54.856213   \n",
       "AGTCTTTGTGTGTGCC_LUNG_N34                    52.102950   \n",
       "\n",
       "                           pct_counts_in_top_200_genes  \\\n",
       "ACTATCTAGACAGAGA_LUNG_N01                    60.033113   \n",
       "CCGGGATCACCTCGGA_LUNG_N01                    62.967581   \n",
       "CCGGGATCAGCTCGAC_LUNG_N01                    61.511005   \n",
       "CCGGTAGAGCACAGGT_LUNG_N01                    71.035058   \n",
       "CCGGTAGAGCTAGGCA_LUNG_N01                    59.005329   \n",
       "...                                                ...   \n",
       "CCCAGTTTCAACGGCC_LUNG_N34                    67.378574   \n",
       "CCCAGTTTCGTTTATC_LUNG_N34                    73.629490   \n",
       "CCCATACCAAGTCTGT_LUNG_N34                    68.786127   \n",
       "CCCAATCGTTTGGGCC_LUNG_N34                    67.498644   \n",
       "AGTCTTTGTGTGTGCC_LUNG_N34                    65.683197   \n",
       "\n",
       "                           pct_counts_in_top_500_genes  pct_counts_mt  \\\n",
       "ACTATCTAGACAGAGA_LUNG_N01                    75.033113       5.794702   \n",
       "CCGGGATCACCTCGGA_LUNG_N01                    79.800499       5.320033   \n",
       "CCGGGATCAGCTCGAC_LUNG_N01                    75.431291       4.878049   \n",
       "CCGGTAGAGCACAGGT_LUNG_N01                    96.076795       7.262104   \n",
       "CCGGTAGAGCTAGGCA_LUNG_N01                    74.991119       3.161634   \n",
       "...                                                ...            ...   \n",
       "CCCAGTTTCAACGGCC_LUNG_N34                    82.018601       4.443679   \n",
       "CCCAGTTTCGTTTATC_LUNG_N34                   100.000000       3.686200   \n",
       "CCCATACCAAGTCTGT_LUNG_N34                    84.081814       5.735883   \n",
       "CCCAATCGTTTGGGCC_LUNG_N34                    84.264786       5.046120   \n",
       "AGTCTTTGTGTGTGCC_LUNG_N34                    80.581712       6.716886   \n",
       "\n",
       "                           pct_counts_ribo  pct_counts_hb  doublet  \\\n",
       "ACTATCTAGACAGAGA_LUNG_N01        21.622517       0.000000      0.0   \n",
       "CCGGGATCACCTCGGA_LUNG_N01        25.768911       0.000000      0.0   \n",
       "CCGGGATCAGCTCGAC_LUNG_N01        26.650803       0.000000      0.0   \n",
       "CCGGTAGAGCACAGGT_LUNG_N01        38.397329       0.000000      0.0   \n",
       "CCGGTAGAGCTAGGCA_LUNG_N01        22.202487       0.000000      0.0   \n",
       "...                                    ...            ...      ...   \n",
       "CCCAGTTTCAACGGCC_LUNG_N34        22.425078       0.000000      0.0   \n",
       "CCCAGTTTCGTTTATC_LUNG_N34        34.971645       0.000000      0.0   \n",
       "CCCATACCAAGTCTGT_LUNG_N34        28.368164       0.088928      0.0   \n",
       "CCCAATCGTTTGGGCC_LUNG_N34        33.803581       0.054259      0.0   \n",
       "AGTCTTTGTGTGTGCC_LUNG_N34        25.486503       0.083700      0.0   \n",
       "\n",
       "                           doublet_score  \n",
       "ACTATCTAGACAGAGA_LUNG_N01       0.000015  \n",
       "CCGGGATCACCTCGGA_LUNG_N01       0.055152  \n",
       "CCGGGATCAGCTCGAC_LUNG_N01       3.322630  \n",
       "CCGGTAGAGCACAGGT_LUNG_N01       2.092028  \n",
       "CCGGTAGAGCTAGGCA_LUNG_N01       0.209435  \n",
       "...                                  ...  \n",
       "CCCAGTTTCAACGGCC_LUNG_N34       5.005514  \n",
       "CCCAGTTTCGTTTATC_LUNG_N34       7.672589  \n",
       "CCCATACCAAGTCTGT_LUNG_N34       0.000106  \n",
       "CCCAATCGTTTGGGCC_LUNG_N34       0.001323  \n",
       "AGTCTTTGTGTGTGCC_LUNG_N34       9.022075  \n",
       "\n",
       "[25172 rows x 16 columns]"
      ]
     },
     "execution_count": 22,
     "metadata": {},
     "output_type": "execute_result"
    }
   ],
   "source": [
    "df2"
   ]
  },
  {
   "cell_type": "code",
   "execution_count": 27,
   "metadata": {},
   "outputs": [],
   "source": [
    "#value = \"pct_counts_mt\"\n",
    "#value = \"n_genes\"\n",
    "# value = 'pct_counts_in_top_50_genes'\n",
    "value = \"log1p_total_counts\"\n",
    "\n",
    "sns.set(style=\"white\", rc={\"axes.facecolor\": (0, 0, 0, 0)})\n",
    "\n",
    "g = sns.FacetGrid(df2, row=\"sample\", hue=\"sample\", aspect=15, height=2, palette=\"tab20\")\n",
    "\n",
    "g.map(sns.kdeplot, value, clip_on=False, fill=True, alpha=1, linewidth=1.5)\n",
    "g.map(sns.kdeplot, value, clip_on=False, color=\"w\", lw=2)\n",
    "\n",
    "g.map(plt.axhline, y=0, lw=2, clip_on=False)\n",
    "\n",
    "def label(x, color, label):\n",
    "    ax = plt.gca()\n",
    "    ax.text(0, .2, label, fontweight=\"bold\", color=color,\n",
    "            ha=\"left\", va=\"center\", transform=ax.transAxes)\n",
    "\n",
    "g.map(label, value)\n",
    "\n",
    "# g.figure.subplots_adjust(hspace=-.6)\n",
    "\n",
    "g.set_titles(\"\")\n",
    "g.set(yticks=[], ylabel=\"\")\n",
    "g.despine(bottom=True, left=True)\n",
    "g.figure.subplots_adjust(hspace=0.8)\n",
    "\n",
    "for ax in g.axes.flat:\n",
    "    ax.axvline(x=df2[value].median(), color='r', linestyle='-')\n",
    "\n",
    "\n",
    "plt.show()"
   ]
  },
  {
   "cell_type": "markdown",
   "metadata": {},
   "source": [
    "Continue from here:https://github.com/mousepixels/sanbomics_scripts/blob/main/sc2024/preprocessing.ipynb"
   ]
  },
  {
   "cell_type": "code",
   "execution_count": 29,
   "metadata": {},
   "outputs": [],
   "source": [
    "df_cell_annotation = pd.read_csv(\"/scratch/sah2p/projects/G2PDeep-sc-LLM/data/GSE131907/GSE131907_Lung_Cancer_cell_annotation.txt\",sep='\\t')"
   ]
  },
  {
   "cell_type": "code",
   "execution_count": 30,
   "metadata": {},
   "outputs": [
    {
     "data": {
      "text/html": [
       "<div>\n",
       "<style scoped>\n",
       "    .dataframe tbody tr th:only-of-type {\n",
       "        vertical-align: middle;\n",
       "    }\n",
       "\n",
       "    .dataframe tbody tr th {\n",
       "        vertical-align: top;\n",
       "    }\n",
       "\n",
       "    .dataframe thead th {\n",
       "        text-align: right;\n",
       "    }\n",
       "</style>\n",
       "<table border=\"1\" class=\"dataframe\">\n",
       "  <thead>\n",
       "    <tr style=\"text-align: right;\">\n",
       "      <th></th>\n",
       "      <th>Index</th>\n",
       "      <th>Barcode</th>\n",
       "      <th>Sample</th>\n",
       "      <th>Sample_Origin</th>\n",
       "      <th>Cell_type</th>\n",
       "      <th>Cell_type.refined</th>\n",
       "      <th>Cell_subtype</th>\n",
       "    </tr>\n",
       "  </thead>\n",
       "  <tbody>\n",
       "    <tr>\n",
       "      <th>0</th>\n",
       "      <td>AAACCTGCAAGGTGTG_LUNG_N01</td>\n",
       "      <td>AAACCTGCAAGGTGTG</td>\n",
       "      <td>LUNG_N01</td>\n",
       "      <td>nLung</td>\n",
       "      <td>Myeloid cells</td>\n",
       "      <td>Myeloid cells</td>\n",
       "      <td>mo-Mac</td>\n",
       "    </tr>\n",
       "    <tr>\n",
       "      <th>1</th>\n",
       "      <td>AACTCCCGTTCACCTC_LUNG_N01</td>\n",
       "      <td>AACTCCCGTTCACCTC</td>\n",
       "      <td>LUNG_N01</td>\n",
       "      <td>nLung</td>\n",
       "      <td>Myeloid cells</td>\n",
       "      <td>Myeloid cells</td>\n",
       "      <td>mo-Mac</td>\n",
       "    </tr>\n",
       "    <tr>\n",
       "      <th>2</th>\n",
       "      <td>AACTCCCTCACGCGGT_LUNG_N01</td>\n",
       "      <td>AACTCCCTCACGCGGT</td>\n",
       "      <td>LUNG_N01</td>\n",
       "      <td>nLung</td>\n",
       "      <td>Myeloid cells</td>\n",
       "      <td>Myeloid cells</td>\n",
       "      <td>mo-Mac</td>\n",
       "    </tr>\n",
       "    <tr>\n",
       "      <th>3</th>\n",
       "      <td>AAGGAGCGTGTGCGTC_LUNG_N01</td>\n",
       "      <td>AAGGAGCGTGTGCGTC</td>\n",
       "      <td>LUNG_N01</td>\n",
       "      <td>nLung</td>\n",
       "      <td>Myeloid cells</td>\n",
       "      <td>Myeloid cells</td>\n",
       "      <td>mo-Mac</td>\n",
       "    </tr>\n",
       "    <tr>\n",
       "      <th>4</th>\n",
       "      <td>AAGGTTCAGGTACTCT_LUNG_N01</td>\n",
       "      <td>AAGGTTCAGGTACTCT</td>\n",
       "      <td>LUNG_N01</td>\n",
       "      <td>nLung</td>\n",
       "      <td>Myeloid cells</td>\n",
       "      <td>Myeloid cells</td>\n",
       "      <td>mo-Mac</td>\n",
       "    </tr>\n",
       "    <tr>\n",
       "      <th>...</th>\n",
       "      <td>...</td>\n",
       "      <td>...</td>\n",
       "      <td>...</td>\n",
       "      <td>...</td>\n",
       "      <td>...</td>\n",
       "      <td>...</td>\n",
       "      <td>...</td>\n",
       "    </tr>\n",
       "    <tr>\n",
       "      <th>42990</th>\n",
       "      <td>TTTGCGCCATTCTCAT_LUNG_N34</td>\n",
       "      <td>TTTGCGCCATTCTCAT</td>\n",
       "      <td>LUNG_N34</td>\n",
       "      <td>nLung</td>\n",
       "      <td>T lymphocytes</td>\n",
       "      <td>NaN</td>\n",
       "      <td>NaN</td>\n",
       "    </tr>\n",
       "    <tr>\n",
       "      <th>42991</th>\n",
       "      <td>TTTGGTTCAATAGCAA_LUNG_N34</td>\n",
       "      <td>TTTGGTTCAATAGCAA</td>\n",
       "      <td>LUNG_N34</td>\n",
       "      <td>nLung</td>\n",
       "      <td>T lymphocytes</td>\n",
       "      <td>NaN</td>\n",
       "      <td>NaN</td>\n",
       "    </tr>\n",
       "    <tr>\n",
       "      <th>42992</th>\n",
       "      <td>TTTGGTTTCAGTGTTG_LUNG_N34</td>\n",
       "      <td>TTTGGTTTCAGTGTTG</td>\n",
       "      <td>LUNG_N34</td>\n",
       "      <td>nLung</td>\n",
       "      <td>T lymphocytes</td>\n",
       "      <td>NaN</td>\n",
       "      <td>NaN</td>\n",
       "    </tr>\n",
       "    <tr>\n",
       "      <th>42993</th>\n",
       "      <td>TTTGTCAAGATGTCGG_LUNG_N34</td>\n",
       "      <td>TTTGTCAAGATGTCGG</td>\n",
       "      <td>LUNG_N34</td>\n",
       "      <td>nLung</td>\n",
       "      <td>T lymphocytes</td>\n",
       "      <td>NaN</td>\n",
       "      <td>NaN</td>\n",
       "    </tr>\n",
       "    <tr>\n",
       "      <th>42994</th>\n",
       "      <td>TTTGTCACATTGGGCC_LUNG_N34</td>\n",
       "      <td>TTTGTCACATTGGGCC</td>\n",
       "      <td>LUNG_N34</td>\n",
       "      <td>nLung</td>\n",
       "      <td>T lymphocytes</td>\n",
       "      <td>NaN</td>\n",
       "      <td>NaN</td>\n",
       "    </tr>\n",
       "  </tbody>\n",
       "</table>\n",
       "<p>42995 rows × 7 columns</p>\n",
       "</div>"
      ],
      "text/plain": [
       "                           Index           Barcode    Sample Sample_Origin  \\\n",
       "0      AAACCTGCAAGGTGTG_LUNG_N01  AAACCTGCAAGGTGTG  LUNG_N01         nLung   \n",
       "1      AACTCCCGTTCACCTC_LUNG_N01  AACTCCCGTTCACCTC  LUNG_N01         nLung   \n",
       "2      AACTCCCTCACGCGGT_LUNG_N01  AACTCCCTCACGCGGT  LUNG_N01         nLung   \n",
       "3      AAGGAGCGTGTGCGTC_LUNG_N01  AAGGAGCGTGTGCGTC  LUNG_N01         nLung   \n",
       "4      AAGGTTCAGGTACTCT_LUNG_N01  AAGGTTCAGGTACTCT  LUNG_N01         nLung   \n",
       "...                          ...               ...       ...           ...   \n",
       "42990  TTTGCGCCATTCTCAT_LUNG_N34  TTTGCGCCATTCTCAT  LUNG_N34         nLung   \n",
       "42991  TTTGGTTCAATAGCAA_LUNG_N34  TTTGGTTCAATAGCAA  LUNG_N34         nLung   \n",
       "42992  TTTGGTTTCAGTGTTG_LUNG_N34  TTTGGTTTCAGTGTTG  LUNG_N34         nLung   \n",
       "42993  TTTGTCAAGATGTCGG_LUNG_N34  TTTGTCAAGATGTCGG  LUNG_N34         nLung   \n",
       "42994  TTTGTCACATTGGGCC_LUNG_N34  TTTGTCACATTGGGCC  LUNG_N34         nLung   \n",
       "\n",
       "           Cell_type Cell_type.refined Cell_subtype  \n",
       "0      Myeloid cells     Myeloid cells       mo-Mac  \n",
       "1      Myeloid cells     Myeloid cells       mo-Mac  \n",
       "2      Myeloid cells     Myeloid cells       mo-Mac  \n",
       "3      Myeloid cells     Myeloid cells       mo-Mac  \n",
       "4      Myeloid cells     Myeloid cells       mo-Mac  \n",
       "...              ...               ...          ...  \n",
       "42990  T lymphocytes               NaN          NaN  \n",
       "42991  T lymphocytes               NaN          NaN  \n",
       "42992  T lymphocytes               NaN          NaN  \n",
       "42993  T lymphocytes               NaN          NaN  \n",
       "42994  T lymphocytes               NaN          NaN  \n",
       "\n",
       "[42995 rows x 7 columns]"
      ]
     },
     "execution_count": 30,
     "metadata": {},
     "output_type": "execute_result"
    }
   ],
   "source": [
    "df_cell_annotation[df_cell_annotation['Sample_Origin'] == 'nLung']"
   ]
  },
  {
   "cell_type": "code",
   "execution_count": 31,
   "metadata": {},
   "outputs": [],
   "source": [
    "df_annotated = pd.merge(df_cell_annotation[df_cell_annotation['Sample_Origin'] == 'nLung'][['Barcode','Cell_type']],df2, left_on='Barcode',right_on='barcode')"
   ]
  },
  {
   "cell_type": "code",
   "execution_count": 38,
   "metadata": {},
   "outputs": [
    {
     "ename": "NameError",
     "evalue": "name 'combined_data' is not defined",
     "output_type": "error",
     "traceback": [
      "\u001b[0;31m---------------------------------------------------------------------------\u001b[0m",
      "\u001b[0;31mNameError\u001b[0m                                 Traceback (most recent call last)",
      "Cell \u001b[0;32mIn[38], line 2\u001b[0m\n\u001b[1;32m      1\u001b[0m \u001b[38;5;66;03m# df_annotated.drop_duplicates(inplace=True)\u001b[39;00m\n\u001b[0;32m----> 2\u001b[0m \u001b[43mcombined_data\u001b[49m\u001b[38;5;241m.\u001b[39mobs \u001b[38;5;241m=\u001b[39m df_annotated\n",
      "\u001b[0;31mNameError\u001b[0m: name 'combined_data' is not defined"
     ]
    }
   ],
   "source": [
    "# df_annotated.drop_duplicates(inplace=True)\n",
    "combined_data.obs = df_annotated"
   ]
  },
  {
   "cell_type": "code",
   "execution_count": 33,
   "metadata": {},
   "outputs": [
    {
     "data": {
      "text/plain": [
       "barcode                        24763\n",
       "Tissue                             1\n",
       "sample                            11\n",
       "n_genes_by_counts               2142\n",
       "log1p_n_genes_by_counts         2142\n",
       "total_counts                    6364\n",
       "log1p_total_counts              6364\n",
       "pct_counts_in_top_50_genes     24199\n",
       "pct_counts_in_top_100_genes    24380\n",
       "pct_counts_in_top_200_genes    24391\n",
       "pct_counts_in_top_500_genes    24239\n",
       "pct_counts_mt                  22906\n",
       "pct_counts_ribo                24586\n",
       "pct_counts_hb                   5581\n",
       "doublet                            1\n",
       "doublet_score                  12058\n",
       "dtype: int64"
      ]
     },
     "execution_count": 33,
     "metadata": {},
     "output_type": "execute_result"
    }
   ],
   "source": [
    "df2.nunique()"
   ]
  },
  {
   "cell_type": "code",
   "execution_count": 34,
   "metadata": {},
   "outputs": [],
   "source": [
    "df_nlung_ann = df_cell_annotation[df_cell_annotation['Sample_Origin'] == 'nLung']\n",
    "df_nlung_ann = df_nlung_ann[['Barcode','Cell_type']].drop_duplicates(subset=['Barcode'])\n",
    "# df_nlung_ann.set_index('Barcode',inplace=True)\n"
   ]
  },
  {
   "cell_type": "code",
   "execution_count": 35,
   "metadata": {},
   "outputs": [
    {
     "data": {
      "text/html": [
       "<div>\n",
       "<style scoped>\n",
       "    .dataframe tbody tr th:only-of-type {\n",
       "        vertical-align: middle;\n",
       "    }\n",
       "\n",
       "    .dataframe tbody tr th {\n",
       "        vertical-align: top;\n",
       "    }\n",
       "\n",
       "    .dataframe thead th {\n",
       "        text-align: right;\n",
       "    }\n",
       "</style>\n",
       "<table border=\"1\" class=\"dataframe\">\n",
       "  <thead>\n",
       "    <tr style=\"text-align: right;\">\n",
       "      <th></th>\n",
       "      <th>Barcode</th>\n",
       "      <th>Cell_type</th>\n",
       "    </tr>\n",
       "  </thead>\n",
       "  <tbody>\n",
       "    <tr>\n",
       "      <th>27629</th>\n",
       "      <td>AAACCTGGTACCAGTT</td>\n",
       "      <td>T lymphocytes</td>\n",
       "    </tr>\n",
       "  </tbody>\n",
       "</table>\n",
       "</div>"
      ],
      "text/plain": [
       "                Barcode      Cell_type\n",
       "27629  AAACCTGGTACCAGTT  T lymphocytes"
      ]
     },
     "execution_count": 35,
     "metadata": {},
     "output_type": "execute_result"
    }
   ],
   "source": [
    "df_nlung_ann[df_nlung_ann['Barcode']=='AAACCTGGTACCAGTT']"
   ]
  },
  {
   "cell_type": "code",
   "execution_count": 28,
   "metadata": {},
   "outputs": [
    {
     "name": "stderr",
     "output_type": "stream",
     "text": [
      "/tmp/ipykernel_2486374/267019385.py:2: FutureWarning: Use anndata.concat instead of AnnData.concatenate, AnnData.concatenate is deprecated and will be removed in the future. See the tutorial for concat at: https://anndata.readthedocs.io/en/latest/concatenation.html\n",
      "  combined_adata = adata_by_sample[0].concatenate(adata_by_sample[1:])\n"
     ]
    },
    {
     "name": "stdout",
     "output_type": "stream",
     "text": [
      "AnnData object with n_obs × n_vars = 25172 × 29634\n",
      "    obs: 'barcode', 'Tissue', 'sample', 'n_genes_by_counts', 'log1p_n_genes_by_counts', 'total_counts', 'log1p_total_counts', 'pct_counts_in_top_50_genes', 'pct_counts_in_top_100_genes', 'pct_counts_in_top_200_genes', 'pct_counts_in_top_500_genes', 'pct_counts_mt', 'pct_counts_ribo', 'pct_counts_hb', 'doublet', 'doublet_score', 'batch'\n",
      "    var: 'mt', 'ribo', 'hb', 'n_cells_by_counts-0', 'mean_counts-0', 'log1p_mean_counts-0', 'pct_dropout_by_counts-0', 'total_counts-0', 'log1p_total_counts-0', 'n_cells_by_counts-1', 'mean_counts-1', 'log1p_mean_counts-1', 'pct_dropout_by_counts-1', 'total_counts-1', 'log1p_total_counts-1', 'n_cells_by_counts-10', 'mean_counts-10', 'log1p_mean_counts-10', 'pct_dropout_by_counts-10', 'total_counts-10', 'log1p_total_counts-10', 'n_cells_by_counts-2', 'mean_counts-2', 'log1p_mean_counts-2', 'pct_dropout_by_counts-2', 'total_counts-2', 'log1p_total_counts-2', 'n_cells_by_counts-3', 'mean_counts-3', 'log1p_mean_counts-3', 'pct_dropout_by_counts-3', 'total_counts-3', 'log1p_total_counts-3', 'n_cells_by_counts-4', 'mean_counts-4', 'log1p_mean_counts-4', 'pct_dropout_by_counts-4', 'total_counts-4', 'log1p_total_counts-4', 'n_cells_by_counts-5', 'mean_counts-5', 'log1p_mean_counts-5', 'pct_dropout_by_counts-5', 'total_counts-5', 'log1p_total_counts-5', 'n_cells_by_counts-6', 'mean_counts-6', 'log1p_mean_counts-6', 'pct_dropout_by_counts-6', 'total_counts-6', 'log1p_total_counts-6', 'n_cells_by_counts-7', 'mean_counts-7', 'log1p_mean_counts-7', 'pct_dropout_by_counts-7', 'total_counts-7', 'log1p_total_counts-7', 'n_cells_by_counts-8', 'mean_counts-8', 'log1p_mean_counts-8', 'pct_dropout_by_counts-8', 'total_counts-8', 'log1p_total_counts-8', 'n_cells_by_counts-9', 'mean_counts-9', 'log1p_mean_counts-9', 'pct_dropout_by_counts-9', 'total_counts-9', 'log1p_total_counts-9'\n"
     ]
    }
   ],
   "source": [
    "\n",
    "# Combine the list of AnnData objects into one\n",
    "combined_adata = adata_by_sample[0].concatenate(adata_by_sample[1:])\n",
    "\n",
    "# Check the resulting combined AnnData object\n",
    "print(combined_adata)"
   ]
  },
  {
   "cell_type": "code",
   "execution_count": 36,
   "metadata": {},
   "outputs": [],
   "source": [
    "combined_adata.obs['cell_type'] = combined_adata.obs_names.map(df_nlung_ann['Cell_type'])\n",
    "\n",
    "# Step 4: Verify the annotations were added successfully\n",
    "# print(combined_adata.obs[['cell_type']].head())\n"
   ]
  },
  {
   "cell_type": "code",
   "execution_count": 153,
   "metadata": {},
   "outputs": [],
   "source": [
    "df = pd.merge(combined_adata.obs, df_nlung_ann, right_on='Barcode',left_on='barcode')"
   ]
  },
  {
   "cell_type": "code",
   "execution_count": 154,
   "metadata": {},
   "outputs": [],
   "source": [
    "combined_adata.obs = df"
   ]
  },
  {
   "cell_type": "code",
   "execution_count": 156,
   "metadata": {},
   "outputs": [
    {
     "data": {
      "text/plain": [
       "Index(['A1BG', 'A1BG-AS1', 'A1CF', 'A2M', 'A2M-AS1', 'A2ML1', 'A2ML1-AS1',\n",
       "       'A2ML1-AS2', 'A4GALT', 'A4GNT',\n",
       "       ...\n",
       "       'ZXDA', 'ZXDB', 'ZXDC', 'ZYG11A', 'ZYG11B', 'ZYX', 'ZZEF1', 'ZZZ3',\n",
       "       'bP-21264C1.2', 'bP-2189O9.3'],\n",
       "      dtype='object', length=29634)"
      ]
     },
     "execution_count": 156,
     "metadata": {},
     "output_type": "execute_result"
    }
   ],
   "source": [
    "combined_adata.var_names"
   ]
  },
  {
   "cell_type": "code",
   "execution_count": 138,
   "metadata": {},
   "outputs": [],
   "source": [
    "combined_adata.obs['barcode'] =combined_adata.obs['barcode'].str.strip()"
   ]
  },
  {
   "cell_type": "code",
   "execution_count": 143,
   "metadata": {},
   "outputs": [
    {
     "data": {
      "text/html": [
       "<div>\n",
       "<style scoped>\n",
       "    .dataframe tbody tr th:only-of-type {\n",
       "        vertical-align: middle;\n",
       "    }\n",
       "\n",
       "    .dataframe tbody tr th {\n",
       "        vertical-align: top;\n",
       "    }\n",
       "\n",
       "    .dataframe thead th {\n",
       "        text-align: right;\n",
       "    }\n",
       "</style>\n",
       "<table border=\"1\" class=\"dataframe\">\n",
       "  <thead>\n",
       "    <tr style=\"text-align: right;\">\n",
       "      <th></th>\n",
       "      <th>barcode</th>\n",
       "      <th>Tissue</th>\n",
       "      <th>sample</th>\n",
       "      <th>n_genes_by_counts</th>\n",
       "      <th>log1p_n_genes_by_counts</th>\n",
       "      <th>total_counts</th>\n",
       "      <th>log1p_total_counts</th>\n",
       "      <th>pct_counts_in_top_50_genes</th>\n",
       "      <th>pct_counts_in_top_100_genes</th>\n",
       "      <th>pct_counts_in_top_200_genes</th>\n",
       "      <th>pct_counts_in_top_500_genes</th>\n",
       "      <th>pct_counts_mt</th>\n",
       "      <th>pct_counts_ribo</th>\n",
       "      <th>pct_counts_hb</th>\n",
       "      <th>doublet</th>\n",
       "      <th>doublet_score</th>\n",
       "      <th>batch</th>\n",
       "      <th>cell_type</th>\n",
       "    </tr>\n",
       "  </thead>\n",
       "  <tbody>\n",
       "    <tr>\n",
       "      <th>AAACCTGGTACCAGTT_LUNG_N28-0</th>\n",
       "      <td>AAACCTGGTACCAGTT</td>\n",
       "      <td>LUNG</td>\n",
       "      <td>N28</td>\n",
       "      <td>860</td>\n",
       "      <td>6.758095</td>\n",
       "      <td>2065</td>\n",
       "      <td>7.63337</td>\n",
       "      <td>43.535109</td>\n",
       "      <td>55.496368</td>\n",
       "      <td>67.409201</td>\n",
       "      <td>82.566586</td>\n",
       "      <td>4.794189</td>\n",
       "      <td>29.491525</td>\n",
       "      <td>0.048426</td>\n",
       "      <td>0.0</td>\n",
       "      <td>0.000746</td>\n",
       "      <td>0</td>\n",
       "      <td>NaN</td>\n",
       "    </tr>\n",
       "  </tbody>\n",
       "</table>\n",
       "</div>"
      ],
      "text/plain": [
       "                                      barcode Tissue sample  \\\n",
       "AAACCTGGTACCAGTT_LUNG_N28-0  AAACCTGGTACCAGTT   LUNG    N28   \n",
       "\n",
       "                             n_genes_by_counts  log1p_n_genes_by_counts  \\\n",
       "AAACCTGGTACCAGTT_LUNG_N28-0                860                 6.758095   \n",
       "\n",
       "                             total_counts  log1p_total_counts  \\\n",
       "AAACCTGGTACCAGTT_LUNG_N28-0          2065             7.63337   \n",
       "\n",
       "                             pct_counts_in_top_50_genes  \\\n",
       "AAACCTGGTACCAGTT_LUNG_N28-0                   43.535109   \n",
       "\n",
       "                             pct_counts_in_top_100_genes  \\\n",
       "AAACCTGGTACCAGTT_LUNG_N28-0                    55.496368   \n",
       "\n",
       "                             pct_counts_in_top_200_genes  \\\n",
       "AAACCTGGTACCAGTT_LUNG_N28-0                    67.409201   \n",
       "\n",
       "                             pct_counts_in_top_500_genes  pct_counts_mt  \\\n",
       "AAACCTGGTACCAGTT_LUNG_N28-0                    82.566586       4.794189   \n",
       "\n",
       "                             pct_counts_ribo  pct_counts_hb  doublet  \\\n",
       "AAACCTGGTACCAGTT_LUNG_N28-0        29.491525       0.048426      0.0   \n",
       "\n",
       "                             doublet_score batch  cell_type  \n",
       "AAACCTGGTACCAGTT_LUNG_N28-0       0.000746     0        NaN  "
      ]
     },
     "execution_count": 143,
     "metadata": {},
     "output_type": "execute_result"
    }
   ],
   "source": [
    "combined_adata.obs[combined_adata.obs['barcode'] =='AAACCTGGTACCAGTT']"
   ]
  },
  {
   "cell_type": "code",
   "execution_count": 157,
   "metadata": {},
   "outputs": [],
   "source": [
    "# Optionally save the combined AnnData object\n",
    "combined_adata.write('/scratch/sah2p/projects/G2PDeep-sc-LLM/data/GSE131907/combined_adata.h5ad')"
   ]
  },
  {
   "cell_type": "code",
   "execution_count": 159,
   "metadata": {},
   "outputs": [
    {
     "data": {
      "text/plain": [
       "Index(['barcode', 'Tissue', 'sample', 'n_genes_by_counts',\n",
       "       'log1p_n_genes_by_counts', 'total_counts', 'log1p_total_counts',\n",
       "       'pct_counts_in_top_50_genes', 'pct_counts_in_top_100_genes',\n",
       "       'pct_counts_in_top_200_genes', 'pct_counts_in_top_500_genes',\n",
       "       'pct_counts_mt', 'pct_counts_ribo', 'pct_counts_hb', 'doublet',\n",
       "       'doublet_score', 'batch', 'cell_type', 'Barcode', 'Cell_type'],\n",
       "      dtype='object')"
      ]
     },
     "execution_count": 159,
     "metadata": {},
     "output_type": "execute_result"
    }
   ],
   "source": [
    "combined_adata.obs.columns"
   ]
  },
  {
   "cell_type": "code",
   "execution_count": 165,
   "metadata": {},
   "outputs": [],
   "source": [
    "combined_adata.var = combined_adata.var.reset_index()"
   ]
  },
  {
   "cell_type": "code",
   "execution_count": 167,
   "metadata": {},
   "outputs": [],
   "source": [
    "combined_adata.var.columns = ['gene_name', 'mt', 'ribo', 'hb', 'n_cells_by_counts', 'mean_counts',\n",
    "       'log1p_mean_counts', 'pct_dropout_by_counts', 'total_counts',\n",
    "       'log1p_total_counts']"
   ]
  },
  {
   "cell_type": "code",
   "execution_count": 170,
   "metadata": {},
   "outputs": [],
   "source": [
    "combined_adata.write('/scratch/sah2p/projects/G2PDeep-sc-LLM/data/GSE131907/combined_adata.h5ad')"
   ]
  },
  {
   "cell_type": "code",
   "execution_count": 177,
   "metadata": {},
   "outputs": [
    {
     "name": "stdout",
     "output_type": "stream",
     "text": [
      "[[ 3.3106172   5.213119  ]\n",
      " [-4.3502393  -0.1170982 ]\n",
      " [ 7.057697    8.15754   ]\n",
      " ...\n",
      " [ 5.673259    9.745809  ]\n",
      " [-6.200548    0.13844946]\n",
      " [ 5.5718994   7.5935655 ]]\n"
     ]
    }
   ],
   "source": [
    "import scanpy as sc\n",
    "\n",
    "# Perform preprocessing steps (if not already done)\n",
    "sc.pp.normalize_total(combined_adata, target_sum=1e4)\n",
    "sc.pp.log1p(combined_adata)\n",
    "sc.pp.highly_variable_genes(combined_adata)\n",
    "\n",
    "\n",
    "# Ensure that neighbors have been computed before running UMAP\n",
    "sc.pp.pca(combined_adata)                # Perform PCA first (if not already done)\n",
    "sc.pp.neighbors(combined_adata)          # Compute the nearest neighbors graph\n",
    "\n",
    "# Now, compute UMAP\n",
    "sc.tl.umap(combined_adata)\n",
    "\n",
    "# After running UMAP, it should store the result in adata.obsm['X_umap']\n",
    "print(combined_adata.obsm['X_umap'])"
   ]
  },
  {
   "cell_type": "code",
   "execution_count": 178,
   "metadata": {},
   "outputs": [
    {
     "name": "stdout",
     "output_type": "stream",
     "text": [
      "WARNING: saving figure to file figures/umaptesting_plot.png\n"
     ]
    }
   ],
   "source": [
    "sc.pl.umap(combined_adata, color='Cell_type', save=\"testing_plot.png\")"
   ]
  },
  {
   "cell_type": "markdown",
   "metadata": {},
   "source": []
  },
  {
   "cell_type": "code",
   "execution_count": null,
   "metadata": {},
   "outputs": [],
   "source": []
  }
 ],
 "metadata": {
  "kernelspec": {
   "display_name": "scanpy",
   "language": "python",
   "name": "python3"
  },
  "language_info": {
   "codemirror_mode": {
    "name": "ipython",
    "version": 3
   },
   "file_extension": ".py",
   "mimetype": "text/x-python",
   "name": "python",
   "nbconvert_exporter": "python",
   "pygments_lexer": "ipython3",
   "version": "3.9.20"
  }
 },
 "nbformat": 4,
 "nbformat_minor": 2
}
